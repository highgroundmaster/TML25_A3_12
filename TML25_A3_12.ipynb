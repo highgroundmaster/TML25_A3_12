{
 "cells": [
  {
   "cell_type": "code",
   "execution_count": 1,
   "id": "c9649781-ee11-4e76-a55f-3cbba51c3d99",
   "metadata": {},
   "outputs": [],
   "source": [
    "import requests\n",
    "import torch\n",
    "import torch.nn as nn\n",
    "import os\n",
    "from torchvision import models, datasets, transforms\n",
    "import torch.optim as optim\n",
    "from torch.utils.data import Dataset, DataLoader\n",
    "import torchattacks\n",
    "\n",
    "from sklearn.model_selection import train_test_split\n",
    "from typing import Tuple\n",
    "\n",
    "import warnings\n",
    "from tqdm import tqdm\n",
    "\n",
    "\n",
    "\n",
    "warnings.filterwarnings('ignore')\n",
    "\n",
    "### TOKEN  ###\n",
    "TOKEN = \"REDACTED\" # to be changed according to your token (given to you for the assignments via email)\n",
    "\n",
    "## ALLOWED MODELS\n",
    "allowed_models = {\n",
    "    \"resnet18\": models.resnet18,\n",
    "    \"resnet34\": models.resnet34,\n",
    "    \"resnet50\": models.resnet50,\n",
    "}\n"
   ]
  },
  {
   "cell_type": "code",
   "execution_count": null,
   "id": "91d82e4d-b39f-4fb1-be74-89d38a57ad3d",
   "metadata": {},
   "outputs": [],
   "source": [
    "os.makedirs(\"out/models\", exist_ok=True)"
   ]
  },
  {
   "cell_type": "code",
   "execution_count": 3,
   "id": "bdfd96d7-e21f-428c-a50d-5e9e1f6fe90f",
   "metadata": {},
   "outputs": [],
   "source": [
    "# Dataset Class with RGB Conversion\n",
    "class TaskDataset(Dataset):\n",
    "    def __init__(self, ids, imgs, labels, transform=None):\n",
    "        self.ids = ids\n",
    "        self.imgs = imgs\n",
    "        self.labels = labels\n",
    "        self.transform = transform\n",
    "        \n",
    "    def __getitem__(self, index) -> Tuple[int, torch.Tensor, int]:\n",
    "        id_ = self.ids[index]\n",
    "        img = self.imgs[index]\n",
    "\n",
    "        # Task conversion\n",
    "        if img.mode != 'RGB':\n",
    "            img = img.convert('RGB')\n",
    "        \n",
    "        if not self.transform is None:\n",
    "            img = self.transform(img)\n",
    "            \n",
    "        label = self.labels[index]\n",
    "        \n",
    "        return id_, img, label\n",
    "\n",
    "    def __len__(self):\n",
    "        return len(self.ids)"
   ]
  },
  {
   "cell_type": "code",
   "execution_count": 4,
   "id": "a9a2ac0f-ff29-400a-9a21-619f5f5b189c",
   "metadata": {},
   "outputs": [
    {
     "name": "stdout",
     "output_type": "stream",
     "text": [
      "Using device: cpu\n",
      "Training dataset: 100000 samples\n"
     ]
    }
   ],
   "source": [
    "# CPU Device\n",
    "device = torch.device(\"cuda\" if torch.cuda.is_available() else \"cpu\")\n",
    "print(\"Using device:\", device)\n",
    "\n",
    "# Data Transformation\n",
    "transform = transforms.Compose([\n",
    "    transforms.ToTensor(),\n",
    "    transforms.Resize((32, 32))\n",
    "    # transforms.Normalize(mean, std)\n",
    "])\n",
    "\n",
    "# Load train.pt\n",
    "try:\n",
    "    train_data : TaskDataset= torch.load(\"Train.pt\", map_location=device, weights_only=False)\n",
    "    print(f\"Training dataset: {len(train_data)} samples\")\n",
    "    \n",
    "except Exception as error:\n",
    "    print(f\"Error loading model: {error}\")\n",
    "    exit(1)"
   ]
  },
  {
   "cell_type": "code",
   "execution_count": 65,
   "id": "d1e9215e-2f87-4000-9f11-362f0f03581f",
   "metadata": {},
   "outputs": [],
   "source": [
    "# Training hyperparameters\n",
    "EPOCHS = 30\n",
    "LEARNING_RATE = 0.09\n",
    "WEIGHT_DECAY = 1e-4\n",
    "FGSM_EPSILON = 0.03 # FGSM Attack strength\n",
    "PGD_EPSILON = 0.03 # PGD Attack Strength\n",
    "ALPHA = 0.007   # PGD step size\n",
    "PGD_ITER = 5   # Number of Interattions in PGD\n",
    "RESNET_MODEL = \"resnet18\"  # Resnet Model settings"
   ]
  },
  {
   "cell_type": "code",
   "execution_count": 66,
   "id": "31cd745b-2f06-4fc7-bce0-6149847c9a49",
   "metadata": {},
   "outputs": [],
   "source": [
    "def adversarial_train_epoch(model, train_loader, optimizer, device, fgsm, pgd):\n",
    "    \"\"\"\n",
    "    Train one epoch with adversarial training\n",
    "    \n",
    "    Args:\n",
    "        model: Neural network model\n",
    "        train_loader: Training data loader\n",
    "        optimizer: Optimizer\n",
    "        device: Device to run on\n",
    "        fgsm: FGSM Torchattack Object\n",
    "        pgd: PGD Torchattack Object\n",
    "    Returns:\n",
    "        Average loss and accuracy for the epoch\n",
    "    \"\"\"\n",
    "    model.train()\n",
    "    criterion = nn.CrossEntropyLoss()\n",
    "    total_loss = 0\n",
    "    correct = 0\n",
    "    total = 0\n",
    "\n",
    "    batch_tqdm = tqdm(train_loader, desc='Training', leave=False)\n",
    "\n",
    "    for _, batch_images, batch_labels in batch_tqdm:\n",
    "        batch_images, batch_labels = batch_images.to(device), torch.as_tensor(batch_labels).to(device)\n",
    "\n",
    "        batch_images = torch.clamp(batch_images, 0, 1)\n",
    "\n",
    "         # Generate adversarial examples\n",
    "        fgsm_images = fgsm(batch_images, batch_labels)\n",
    "        pgd_images = pgd(batch_images, batch_labels)\n",
    "        \n",
    "        # Combine clean, FGSM, PGD examples\n",
    "        combined_images = torch.cat([batch_images, fgsm_images, pgd_images])\n",
    "        combined_labels = torch.cat([batch_labels, batch_labels, batch_labels])\n",
    "\n",
    "        # Forward pass\n",
    "        outputs = model(combined_images)\n",
    "        loss = criterion(outputs, combined_labels)\n",
    "        optimizer.zero_grad()\n",
    "\n",
    "        # Backward pass\n",
    "        loss.backward()\n",
    "        optimizer.step()\n",
    "        \n",
    "        # Statistics\n",
    "        total_loss += loss.item()\n",
    "        _, predicted = outputs.max(1)\n",
    "        total += combined_labels.size(0)\n",
    "        correct += predicted.eq(combined_labels).sum().item()\n",
    "\n",
    "        # Update progress bar\n",
    "        batch_tqdm.set_postfix({\n",
    "            'Loss': f'{loss.item():.4f}',\n",
    "            'Acc': f'{100.*correct/total:.2f}%'\n",
    "        })\n",
    "\n",
    "    avg_loss = total_loss / len(train_loader)\n",
    "    accuracy = 100. * correct / total\n",
    "    \n",
    "    return avg_loss, accuracy\n"
   ]
  },
  {
   "cell_type": "code",
   "execution_count": 67,
   "id": "7ccc03cd-6f49-454c-be5a-d551018f1924",
   "metadata": {},
   "outputs": [],
   "source": [
    "def evaluate_robustness(model, val_loader, device, attack=None):\n",
    "    \"\"\"\n",
    "    Evaluate model robustness on clean or adversarial examples\n",
    "    \n",
    "    Args:\n",
    "        model: Neural network model\n",
    "        val_loader: Validation data loader\n",
    "        device: Device to run on\n",
    "        attack: None for clean, else provide the attack function - fgsm or pgd\n",
    "        \n",
    "    Returns:\n",
    "        Accuracy percentage\n",
    "    \"\"\"\n",
    "    model.eval()\n",
    "    correct = 0\n",
    "    total = 0\n",
    "\n",
    "    batch_tqdm = tqdm(val_loader, desc=f'{attack.__class__.__name__ if attack else \"Clean\"}', leave=False)\n",
    "\n",
    "    for _, batch_images, batch_labels in batch_tqdm:\n",
    "        batch_images, batch_labels = batch_images.to(device), batch_labels.to(device)\n",
    "\n",
    "        batch_images = torch.clamp(batch_images, 0, 1)\n",
    "        \n",
    "        # Generate adversarial examples if requested\n",
    "        if attack:\n",
    "            adversarial_images = attack(batch_images, batch_labels)\n",
    "            \n",
    "        with torch.no_grad():\n",
    "            # Forward pass - based on attack type - adversarial or clean\n",
    "            outputs = model(adversarial_images) if attack else model(batch_images)\n",
    "            _, predicted = outputs.max(1)\n",
    "            total += batch_labels.size(0)\n",
    "            correct += predicted.eq(batch_labels).sum().item()\n",
    "\n",
    "            # Update progress bar\n",
    "            batch_tqdm.set_postfix({\n",
    "                f'{attack.__class__.__name__ if attack else \"Clean\"} Acc': f'{100.*correct/total:.2f}%'\n",
    "            })\n",
    "\n",
    "    \n",
    "    accuracy = 100. * correct / total\n",
    "    return accuracy"
   ]
  },
  {
   "cell_type": "code",
   "execution_count": 68,
   "id": "3d2f3697-01b1-4a07-8991-1b61a7450e00",
   "metadata": {},
   "outputs": [],
   "source": [
    "ids = [train_data[i][0] for i in range(len(train_data))]\n",
    "imgs = [train_data[i][1] for i in range(len(train_data))]\n",
    "labels = [train_data[i][2] for i in range(len(train_data))]\n",
    "\n",
    "# Split using sklearn\n",
    "ids_train, ids_val, imgs_train, imgs_val, labels_train, labels_val = train_test_split(\n",
    "    ids, imgs, labels, test_size=0.2, random_state=42, stratify=labels\n",
    ")\n",
    "\n",
    "# unified train and val datasets\n",
    "train_dataset = TaskDataset(ids_train, imgs_train, labels_train, transform=transform)\n",
    "val_dataset = TaskDataset(ids_val, imgs_val, labels_val, transform=transform)\n",
    "    \n",
    "train_loader = DataLoader(train_dataset, batch_size=32, shuffle=True)\n",
    "val_loader = DataLoader(val_dataset, batch_size=32)\n"
   ]
  },
  {
   "cell_type": "code",
   "execution_count": 69,
   "id": "6ff7277e-adec-478c-8688-54713175ec8b",
   "metadata": {},
   "outputs": [],
   "source": [
    "def train_and_evaluate():\n",
    "    \"\"\"\n",
    "    Trains and evaluates a model on 20 epochs\n",
    "\n",
    "    Returns:\n",
    "        tuple: A tuple containing best model state dictionary and clean accuracy\n",
    "    \"\"\"\n",
    "    # Initialize model\n",
    "    resnet_model = allowed_models[RESNET_MODEL](weights=None)\n",
    "    resnet_model.fc = nn.Linear(resnet_model.fc.weight.shape[1], 10)\n",
    "    resnet_model = resnet_model.to(device)\n",
    "\n",
    "    # Initialize optimizer and scheduler\n",
    "    optimizer = optim.SGD(resnet_model.parameters(), lr=LEARNING_RATE,\n",
    "                         momentum=0.9, weight_decay=WEIGHT_DECAY)\n",
    "    scheduler = optim.lr_scheduler.StepLR(optimizer, step_size=6, gamma=0.5)\n",
    "\n",
    "    # Initialize attacks\n",
    "    fgsm = torchattacks.FGSM(resnet_model, eps=FGSM_EPSILON)\n",
    "    pgd = torchattacks.PGD(resnet_model, eps=PGD_EPSILON, alpha=ALPHA, steps=PGD_ITER)\n",
    "\n",
    "    # Store best clean accuracy and model state\n",
    "    best_clean_acc = 0\n",
    "    best_model_state = None\n",
    "\n",
    "    print(f\"Training with parameters: LR={LEARNING_RATE}, FGSM Eps={FGSM_EPSILON}, PGD Eps={PGD_EPSILON}, Alpha={ALPHA}, PGD_Iter={PGD_ITER}\")\n",
    "    # Training loop\n",
    "    for epoch in range(EPOCHS):\n",
    "        print(f\"\\nEpoch {epoch+1}/{EPOCHS}\")\n",
    "        # Training phase\n",
    "        train_loss, train_acc = adversarial_train_epoch(resnet_model, train_loader, optimizer, device, fgsm, pgd)\n",
    "\n",
    "        # Evaluation phase\n",
    "        clean_acc = evaluate_robustness(resnet_model, val_loader, device, attack=None)\n",
    "        fgsm_acc = evaluate_robustness(resnet_model, val_loader, device, attack=fgsm)\n",
    "        pgd_acc = evaluate_robustness(resnet_model, val_loader, device, attack=pgd)\n",
    "\n",
    "        # Update learning rate\n",
    "        scheduler.step()\n",
    "\n",
    "        # Save best model based on clean accuracy\n",
    "        if clean_acc > best_clean_acc and clean_acc > 50:\n",
    "            best_clean_acc = clean_acc\n",
    "            best_model_state = resnet_model.state_dict().copy()\n",
    "            torch.save(best_model_state, os.path.join(\"out/models\", f\"{RESNET_MODEL}_{LEARNING_RATE}_{best_clean_acc}_{epoch+1}.pt\"))\n",
    "        \n",
    "            print(f\"New best clean accuracy: {clean_acc:.2f}%\")\n",
    "    \n",
    "        # Print epoch summary\n",
    "        print(f\"Train Loss: {train_loss:.4f} | Train Acc: {train_acc:.2f}%\")\n",
    "        print(f\"Clean Acc: {clean_acc:.2f}% | FGSM Acc: {fgsm_acc:.2f}% | PGD Acc: {pgd_acc:.2f}%\")\n",
    "        print(f\"Current LR: {scheduler.get_last_lr()[0]:.6f}\")\n",
    "\n",
    "\n",
    "    return best_model_state, best_clean_acc"
   ]
  },
  {
   "cell_type": "code",
   "execution_count": 70,
   "id": "dcdbe1ba-9d0a-48fd-8828-e10abdebf454",
   "metadata": {},
   "outputs": [
    {
     "name": "stdout",
     "output_type": "stream",
     "text": [
      "Training with parameters: LR=0.09, FGSM Eps=0.03, PGD Eps=0.03, Alpha=0.007, PGD_Iter=5\n",
      "\n",
      "Epoch 1/30\n"
     ]
    },
    {
     "name": "stderr",
     "output_type": "stream",
     "text": [
      "                                                                                "
     ]
    },
    {
     "name": "stdout",
     "output_type": "stream",
     "text": [
      "Train Loss: 1.8037 | Train Acc: 33.82%\n",
      "Clean Acc: 44.01% | FGSM Acc: 32.26% | PGD Acc: 32.69%\n",
      "Current LR: 0.090000\n",
      "\n",
      "Epoch 2/30\n"
     ]
    },
    {
     "name": "stderr",
     "output_type": "stream",
     "text": [
      "                                                                                "
     ]
    },
    {
     "name": "stdout",
     "output_type": "stream",
     "text": [
      "Train Loss: 1.6797 | Train Acc: 36.74%\n",
      "Clean Acc: 46.99% | FGSM Acc: 35.20% | PGD Acc: 36.35%\n",
      "Current LR: 0.090000\n",
      "\n",
      "Epoch 3/30\n"
     ]
    },
    {
     "name": "stderr",
     "output_type": "stream",
     "text": [
      "                                                                                "
     ]
    },
    {
     "name": "stdout",
     "output_type": "stream",
     "text": [
      "Train Loss: 1.6540 | Train Acc: 38.55%\n",
      "Clean Acc: 47.91% | FGSM Acc: 32.80% | PGD Acc: 34.41%\n",
      "Current LR: 0.090000\n",
      "\n",
      "Epoch 4/30\n"
     ]
    },
    {
     "name": "stderr",
     "output_type": "stream",
     "text": [
      "                                                                                "
     ]
    },
    {
     "name": "stdout",
     "output_type": "stream",
     "text": [
      "Train Loss: 1.6371 | Train Acc: 39.34%\n",
      "Clean Acc: 44.80% | FGSM Acc: 33.34% | PGD Acc: 34.48%\n",
      "Current LR: 0.090000\n",
      "\n",
      "Epoch 5/30\n"
     ]
    },
    {
     "name": "stderr",
     "output_type": "stream",
     "text": [
      "                                                                                "
     ]
    },
    {
     "name": "stdout",
     "output_type": "stream",
     "text": [
      "Train Loss: 1.6215 | Train Acc: 40.16%\n",
      "Clean Acc: 48.05% | FGSM Acc: 37.98% | PGD Acc: 38.19%\n",
      "Current LR: 0.090000\n",
      "\n",
      "Epoch 6/30\n"
     ]
    },
    {
     "name": "stderr",
     "output_type": "stream",
     "text": [
      "                                                                                "
     ]
    },
    {
     "name": "stdout",
     "output_type": "stream",
     "text": [
      "Train Loss: 1.6124 | Train Acc: 40.20%\n",
      "Clean Acc: 46.94% | FGSM Acc: 35.88% | PGD Acc: 37.16%\n",
      "Current LR: 0.045000\n",
      "\n",
      "Epoch 7/30\n"
     ]
    },
    {
     "name": "stderr",
     "output_type": "stream",
     "text": [
      "                                                                                "
     ]
    },
    {
     "name": "stdout",
     "output_type": "stream",
     "text": [
      "Train Loss: 1.5797 | Train Acc: 41.56%\n",
      "Clean Acc: 49.27% | FGSM Acc: 39.09% | PGD Acc: 38.34%\n",
      "Current LR: 0.045000\n",
      "\n",
      "Epoch 8/30\n"
     ]
    },
    {
     "name": "stderr",
     "output_type": "stream",
     "text": [
      "                                                                                "
     ]
    },
    {
     "name": "stdout",
     "output_type": "stream",
     "text": [
      "Train Loss: 1.5792 | Train Acc: 41.56%\n",
      "Clean Acc: 49.26% | FGSM Acc: 38.22% | PGD Acc: 37.63%\n",
      "Current LR: 0.045000\n",
      "\n",
      "Epoch 9/30\n"
     ]
    },
    {
     "name": "stderr",
     "output_type": "stream",
     "text": [
      "                                                                                "
     ]
    },
    {
     "name": "stdout",
     "output_type": "stream",
     "text": [
      "New best clean accuracy: 50.56%\n",
      "Train Loss: 1.5691 | Train Acc: 41.84%\n",
      "Clean Acc: 50.56% | FGSM Acc: 39.09% | PGD Acc: 38.45%\n",
      "Current LR: 0.045000\n",
      "\n",
      "Epoch 10/30\n"
     ]
    },
    {
     "name": "stderr",
     "output_type": "stream",
     "text": [
      "                                                                                "
     ]
    },
    {
     "name": "stdout",
     "output_type": "stream",
     "text": [
      "Train Loss: 1.5596 | Train Acc: 42.27%\n",
      "Clean Acc: 49.93% | FGSM Acc: 39.16% | PGD Acc: 38.18%\n",
      "Current LR: 0.045000\n",
      "\n",
      "Epoch 11/30\n"
     ]
    },
    {
     "name": "stderr",
     "output_type": "stream",
     "text": [
      "                                                                                "
     ]
    },
    {
     "name": "stdout",
     "output_type": "stream",
     "text": [
      "Train Loss: 1.5498 | Train Acc: 42.58%\n",
      "Clean Acc: 46.70% | FGSM Acc: 40.00% | PGD Acc: 31.49%\n",
      "Current LR: 0.045000\n",
      "\n",
      "Epoch 12/30\n"
     ]
    },
    {
     "name": "stderr",
     "output_type": "stream",
     "text": [
      "                                                                                "
     ]
    },
    {
     "name": "stdout",
     "output_type": "stream",
     "text": [
      "New best clean accuracy: 52.75%\n",
      "Train Loss: 1.5325 | Train Acc: 43.27%\n",
      "Clean Acc: 52.75% | FGSM Acc: 39.41% | PGD Acc: 33.50%\n",
      "Current LR: 0.022500\n",
      "\n",
      "Epoch 13/30\n"
     ]
    },
    {
     "name": "stderr",
     "output_type": "stream",
     "text": [
      "                                                                                "
     ]
    },
    {
     "name": "stdout",
     "output_type": "stream",
     "text": [
      "New best clean accuracy: 54.57%\n",
      "Train Loss: 1.4675 | Train Acc: 45.77%\n",
      "Clean Acc: 54.57% | FGSM Acc: 42.28% | PGD Acc: 37.30%\n",
      "Current LR: 0.022500\n",
      "\n",
      "Epoch 14/30\n"
     ]
    },
    {
     "name": "stderr",
     "output_type": "stream",
     "text": [
      "                                                                                "
     ]
    },
    {
     "name": "stdout",
     "output_type": "stream",
     "text": [
      "New best clean accuracy: 54.92%\n",
      "Train Loss: 1.4046 | Train Acc: 48.59%\n",
      "Clean Acc: 54.92% | FGSM Acc: 59.55% | PGD Acc: 34.29%\n",
      "Current LR: 0.022500\n",
      "\n",
      "Epoch 15/30\n"
     ]
    },
    {
     "name": "stderr",
     "output_type": "stream",
     "text": [
      "                                                                                "
     ]
    },
    {
     "name": "stdout",
     "output_type": "stream",
     "text": [
      "New best clean accuracy: 57.11%\n",
      "Train Loss: 1.3555 | Train Acc: 50.28%\n",
      "Clean Acc: 57.11% | FGSM Acc: 53.78% | PGD Acc: 35.17%\n",
      "Current LR: 0.022500\n",
      "\n",
      "Epoch 16/30\n"
     ]
    },
    {
     "name": "stderr",
     "output_type": "stream",
     "text": [
      "                                                                                "
     ]
    },
    {
     "name": "stdout",
     "output_type": "stream",
     "text": [
      "Train Loss: 1.2913 | Train Acc: 52.39%\n",
      "Clean Acc: 56.40% | FGSM Acc: 59.49% | PGD Acc: 34.45%\n",
      "Current LR: 0.022500\n",
      "\n",
      "Epoch 17/30\n"
     ]
    },
    {
     "name": "stderr",
     "output_type": "stream",
     "text": [
      "                                                                                "
     ]
    },
    {
     "name": "stdout",
     "output_type": "stream",
     "text": [
      "New best clean accuracy: 58.25%\n",
      "Train Loss: 1.2412 | Train Acc: 54.37%\n",
      "Clean Acc: 58.25% | FGSM Acc: 69.19% | PGD Acc: 35.06%\n",
      "Current LR: 0.022500\n",
      "\n",
      "Epoch 18/30\n"
     ]
    },
    {
     "name": "stderr",
     "output_type": "stream",
     "text": [
      "                                                                                "
     ]
    },
    {
     "name": "stdout",
     "output_type": "stream",
     "text": [
      "New best clean accuracy: 59.64%\n",
      "Train Loss: 1.1880 | Train Acc: 56.31%\n",
      "Clean Acc: 59.64% | FGSM Acc: 70.54% | PGD Acc: 34.65%\n",
      "Current LR: 0.011250\n",
      "\n",
      "Epoch 19/30\n"
     ]
    },
    {
     "name": "stderr",
     "output_type": "stream",
     "text": [
      "                                                                                "
     ]
    },
    {
     "name": "stdout",
     "output_type": "stream",
     "text": [
      "New best clean accuracy: 61.05%\n",
      "Train Loss: 1.0604 | Train Acc: 60.95%\n",
      "Clean Acc: 61.05% | FGSM Acc: 85.44% | PGD Acc: 35.39%\n",
      "Current LR: 0.011250\n",
      "\n",
      "Epoch 20/30\n"
     ]
    },
    {
     "name": "stderr",
     "output_type": "stream",
     "text": [
      "                                                                                "
     ]
    },
    {
     "name": "stdout",
     "output_type": "stream",
     "text": [
      "Train Loss: 1.0371 | Train Acc: 62.19%\n",
      "Clean Acc: 60.16% | FGSM Acc: 81.52% | PGD Acc: 34.01%\n",
      "Current LR: 0.011250\n",
      "\n",
      "Epoch 21/30\n"
     ]
    },
    {
     "name": "stderr",
     "output_type": "stream",
     "text": [
      "                                                                                "
     ]
    },
    {
     "name": "stdout",
     "output_type": "stream",
     "text": [
      "Train Loss: 1.0168 | Train Acc: 63.02%\n",
      "Clean Acc: 60.17% | FGSM Acc: 82.12% | PGD Acc: 33.91%\n",
      "Current LR: 0.011250\n",
      "\n",
      "Epoch 22/30\n"
     ]
    },
    {
     "name": "stderr",
     "output_type": "stream",
     "text": [
      "                                                                                "
     ]
    },
    {
     "name": "stdout",
     "output_type": "stream",
     "text": [
      "Train Loss: 1.0015 | Train Acc: 63.64%\n",
      "Clean Acc: 59.91% | FGSM Acc: 84.69% | PGD Acc: 34.97%\n",
      "Current LR: 0.011250\n",
      "\n",
      "Epoch 23/30\n"
     ]
    },
    {
     "name": "stderr",
     "output_type": "stream",
     "text": [
      "                                                                                "
     ]
    },
    {
     "name": "stdout",
     "output_type": "stream",
     "text": [
      "New best clean accuracy: 61.34%\n",
      "Train Loss: 1.0013 | Train Acc: 63.74%\n",
      "Clean Acc: 61.34% | FGSM Acc: 85.93% | PGD Acc: 32.50%\n",
      "Current LR: 0.011250\n",
      "\n",
      "Epoch 24/30\n"
     ]
    },
    {
     "name": "stderr",
     "output_type": "stream",
     "text": [
      "                                                                                "
     ]
    },
    {
     "name": "stdout",
     "output_type": "stream",
     "text": [
      "Train Loss: 0.9798 | Train Acc: 64.55%\n",
      "Clean Acc: 60.08% | FGSM Acc: 85.97% | PGD Acc: 34.86%\n",
      "Current LR: 0.005625\n",
      "\n",
      "Epoch 25/30\n"
     ]
    },
    {
     "name": "stderr",
     "output_type": "stream",
     "text": [
      "                                                                                "
     ]
    },
    {
     "name": "stdout",
     "output_type": "stream",
     "text": [
      "Train Loss: 0.8820 | Train Acc: 67.98%\n",
      "Clean Acc: 60.45% | FGSM Acc: 83.26% | PGD Acc: 34.70%\n",
      "Current LR: 0.005625\n",
      "\n",
      "Epoch 26/30\n"
     ]
    },
    {
     "name": "stderr",
     "output_type": "stream",
     "text": [
      "                                                                                "
     ]
    },
    {
     "name": "stdout",
     "output_type": "stream",
     "text": [
      "Train Loss: 0.8668 | Train Acc: 68.52%\n",
      "Clean Acc: 60.74% | FGSM Acc: 83.10% | PGD Acc: 33.17%\n",
      "Current LR: 0.005625\n",
      "\n",
      "Epoch 27/30\n"
     ]
    },
    {
     "name": "stderr",
     "output_type": "stream",
     "text": [
      "                                                                                "
     ]
    },
    {
     "name": "stdout",
     "output_type": "stream",
     "text": [
      "Train Loss: 0.8619 | Train Acc: 68.70%\n",
      "Clean Acc: 56.72% | FGSM Acc: 77.34% | PGD Acc: 33.95%\n",
      "Current LR: 0.005625\n",
      "\n",
      "Epoch 28/30\n"
     ]
    },
    {
     "name": "stderr",
     "output_type": "stream",
     "text": [
      "                                                                                "
     ]
    },
    {
     "name": "stdout",
     "output_type": "stream",
     "text": [
      "Train Loss: 0.8496 | Train Acc: 69.17%\n",
      "Clean Acc: 58.78% | FGSM Acc: 82.02% | PGD Acc: 31.20%\n",
      "Current LR: 0.005625\n",
      "\n",
      "Epoch 29/30\n"
     ]
    },
    {
     "name": "stderr",
     "output_type": "stream",
     "text": [
      "                                                                                "
     ]
    },
    {
     "name": "stdout",
     "output_type": "stream",
     "text": [
      "Train Loss: 0.8463 | Train Acc: 69.42%\n",
      "Clean Acc: 59.41% | FGSM Acc: 83.31% | PGD Acc: 33.84%\n",
      "Current LR: 0.005625\n",
      "\n",
      "Epoch 30/30\n"
     ]
    },
    {
     "name": "stderr",
     "output_type": "stream",
     "text": [
      "                                                                                "
     ]
    },
    {
     "name": "stdout",
     "output_type": "stream",
     "text": [
      "Train Loss: 0.8303 | Train Acc: 69.99%\n",
      "Clean Acc: 58.12% | FGSM Acc: 80.28% | PGD Acc: 32.73%\n",
      "Current LR: 0.002812\n"
     ]
    },
    {
     "name": "stderr",
     "output_type": "stream",
     "text": []
    }
   ],
   "source": [
    "# Train and evaluate the model\n",
    "best_model_state, best_clean_acc = train_and_evaluate()"
   ]
  },
  {
   "cell_type": "code",
   "execution_count": 71,
   "id": "3c259454-1e67-4928-8eff-6181e0098c11",
   "metadata": {},
   "outputs": [
    {
     "name": "stdout",
     "output_type": "stream",
     "text": [
      "Saved model_resnet18_0.09_61.34.pt to out/models/model_resnet18_0.09_61.34.pt\n"
     ]
    }
   ],
   "source": [
    "# Save for submission\n",
    "os.makedirs(\"out/models\", exist_ok=True)\n",
    "filename = f\"model_{RESNET_MODEL}_{LEARNING_RATE}_{best_clean_acc}.pt\"\n",
    "filepath = os.path.join(\"out/models\", filename)\n",
    "\n",
    "# Save model\n",
    "torch.save(best_model_state, filepath)\n",
    "print(f\"Saved model_{RESNET_MODEL}_{LEARNING_RATE}_{best_clean_acc}.pt to {filepath}\")"
   ]
  },
  {
   "cell_type": "code",
   "execution_count": 72,
   "id": "a333dad6-6b78-4312-b632-f5de68761915",
   "metadata": {},
   "outputs": [],
   "source": [
    "# Validate Model before SUbmission\n",
    "\n",
    "with open(filepath, \"rb\") as f:\n",
    "    try:\n",
    "        model: torch.nn.Module = allowed_models[RESNET_MODEL](weights=None)\n",
    "        model.fc = torch.nn.Linear(model.fc.weight.shape[1], 10)\n",
    "    except Exception as e:\n",
    "        raise Exception(\n",
    "            f\"Invalid model class, {e=}, only {allowed_models.keys()} are allowed\",\n",
    "        )\n",
    "    try:\n",
    "        state_dict = torch.load(f, map_location=torch.device(\"cpu\"))\n",
    "        model.load_state_dict(state_dict, strict=True)\n",
    "        model.eval()\n",
    "        out = model(torch.randn(1, 3, 32, 32))\n",
    "    except Exception as e:\n",
    "        raise Exception(f\"Invalid model, {e=}\")\n",
    "\n",
    "    assert out.shape == (1, 10), \"Invalid output shape\"\n"
   ]
  },
  {
   "cell_type": "code",
   "execution_count": 58,
   "id": "b016a7ba-f822-4d29-b025-be9fd4dcbddc",
   "metadata": {},
   "outputs": [
    {
     "name": "stdout",
     "output_type": "stream",
     "text": [
      "{'clean_accuracy': 0.584, 'fgsm_accuracy': 0.701, 'pgd_accuracy': 0.31833333333333336}\n"
     ]
    }
   ],
   "source": [
    "\n",
    "# Send the model to the server, replace the string \"TOKEN\" with the string of token provided to you\n",
    "response = requests.post(\n",
    "    \"http://34.122.51.94:9090/robustness\",\n",
    "    files={\"file\": open(filepath, \"rb\")},\n",
    "    headers={\"token\": TOKEN, \"model-name\": RESNET_MODEL}\n",
    ")\n",
    "\n",
    "# Should be 400, the clean accuracy is too low\n",
    "print(response.json())\n"
   ]
  },
  {
   "cell_type": "code",
   "execution_count": null,
   "id": "97c7087e-774c-4407-80e3-810a4df0b4c0",
   "metadata": {},
   "outputs": [],
   "source": []
  }
 ],
 "metadata": {
  "kernelspec": {
   "display_name": "DS Kernel",
   "language": "python",
   "name": "ds"
  },
  "language_info": {
   "codemirror_mode": {
    "name": "ipython",
    "version": 3
   },
   "file_extension": ".py",
   "mimetype": "text/x-python",
   "name": "python",
   "nbconvert_exporter": "python",
   "pygments_lexer": "ipython3",
   "version": "3.12.2"
  }
 },
 "nbformat": 4,
 "nbformat_minor": 5
}
